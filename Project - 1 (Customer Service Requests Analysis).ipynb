{
 "cells": [
  {
   "cell_type": "markdown",
   "id": "291793b2",
   "metadata": {},
   "source": [
    "### 1. Import a 311 NYC service request.\n",
    "Reading, Understanding and Optimizing data : </br>\n",
    "As a part of data wrangling, first, we need to read and understand the data (features/columns) very clearly. Once we understand the data properly, we can plan for subsequent steps. The data need to be simplified (reduction/simplification) for further analysis. With the simplified data (which can be analyzed in an easy way), we can predict (inferences) some insight that can be used for future purposes."
   ]
  },
  {
   "cell_type": "code",
   "execution_count": null,
   "id": "3b0d1d44",
   "metadata": {},
   "outputs": [],
   "source": [
    "#import the warnings.\n",
    "import warnings\n",
    "warnings.filterwarnings(\"ignore\")"
   ]
  },
  {
   "cell_type": "code",
   "execution_count": null,
   "id": "ec7369d7",
   "metadata": {},
   "outputs": [],
   "source": [
    "# Importing required libraries\n",
    "\n",
    "import numpy as np\n",
    "import pandas as pd\n",
    "import matplotlib\n",
    "import matplotlib.pyplot as plt\n",
    "import seaborn as sns\n",
    "import datetime\n",
    "import calendar"
   ]
  },
  {
   "cell_type": "code",
   "execution_count": null,
   "id": "8ea9bb5f",
   "metadata": {},
   "outputs": [],
   "source": [
    "data = pd.read_csv('311_Service_Requests_from_2010_to_Present.csv')\n",
    "'''import io\n",
    "import requests\n",
    "c =requests.get('311_Service_Requests_from_2010_to_Present.csv',verify= False)\n",
    "s=c.content\n",
    "data = pd.read_csv(io.StringIO(s.decode('utf-8'))) '''\n"
   ]
  },
  {
   "cell_type": "code",
   "execution_count": null,
   "id": "f4a4b215",
   "metadata": {},
   "outputs": [],
   "source": [
    "# Looking for features (columns) \n",
    "\n",
    "data.columns"
   ]
  },
  {
   "cell_type": "code",
   "execution_count": null,
   "id": "40890ff8",
   "metadata": {},
   "outputs": [],
   "source": [
    "data.info()"
   ]
  },
  {
   "cell_type": "code",
   "execution_count": null,
   "id": "8d9aed42",
   "metadata": {},
   "outputs": [],
   "source": [
    "# Setting the option to view all columns of the dataset and view the data for any 4 random entries\n",
    "\n",
    "pd.set_option('display.max_columns',None)\n",
    "data.sample(4)"
   ]
  },
  {
   "cell_type": "markdown",
   "id": "3a202032",
   "metadata": {},
   "source": [
    "Now, we need to understand each feature one by one. If the feature contains all Nun or all same entries or maybe, all different entries, then we will omit such columns, since these columns do not contain information that is statistically meaningful or can give us any trend.\n",
    "\n",
    "For instance, the 'Unique Key' column has a different number for each entry whereas columns like 'Agency Name', 'Complaint Type' have a different group of lists from which we can predict which kind of complaint occurs more often (e.g frequency distribution). So we can improve our future prediction and even can take some precautions (if permissible)."
   ]
  },
  {
   "cell_type": "code",
   "execution_count": null,
   "id": "57ec957b",
   "metadata": {},
   "outputs": [],
   "source": [
    "# Dropping columns and saving it in another data frame\n",
    "\n",
    "data_mod = data.drop(columns=['Unique Key'],axis=1)\n",
    "data_mod.columns"
   ]
  },
  {
   "cell_type": "code",
   "execution_count": null,
   "id": "f625053e",
   "metadata": {},
   "outputs": [],
   "source": [
    "# To evaluate distinguishable outcomes belong to this feature\n",
    "\n",
    "pd.unique(data['Agency'])"
   ]
  },
  {
   "cell_type": "code",
   "execution_count": null,
   "id": "28f9d397",
   "metadata": {},
   "outputs": [],
   "source": [
    "# Frequency of the different outcomes\n",
    "\n",
    "data['Agency'].value_counts()"
   ]
  },
  {
   "cell_type": "code",
   "execution_count": null,
   "id": "e3236acc",
   "metadata": {},
   "outputs": [],
   "source": [
    "data_mod = data_mod.drop(columns=['Agency'],axis=1)\n",
    "pd.unique(data['Agency Name'])"
   ]
  },
  {
   "cell_type": "code",
   "execution_count": null,
   "id": "9825cf3f",
   "metadata": {},
   "outputs": [],
   "source": [
    "data['Agency Name'].value_counts()"
   ]
  },
  {
   "cell_type": "code",
   "execution_count": null,
   "id": "ff8e89e1",
   "metadata": {},
   "outputs": [],
   "source": [
    "data['Complaint Type'].value_counts().head(5)"
   ]
  },
  {
   "cell_type": "code",
   "execution_count": null,
   "id": "34e25250",
   "metadata": {},
   "outputs": [],
   "source": [
    "data.Descriptor.value_counts().head(5)"
   ]
  },
  {
   "cell_type": "code",
   "execution_count": null,
   "id": "45f4c3f3",
   "metadata": {},
   "outputs": [],
   "source": [
    "data['Location Type'].value_counts().head(4)"
   ]
  },
  {
   "cell_type": "code",
   "execution_count": null,
   "id": "e6c1c20e",
   "metadata": {},
   "outputs": [],
   "source": [
    "data['Incident Zip'].value_counts().head(4)"
   ]
  },
  {
   "cell_type": "code",
   "execution_count": null,
   "id": "cde20159",
   "metadata": {},
   "outputs": [],
   "source": [
    "data['Incident Address'].value_counts().head(4)"
   ]
  },
  {
   "cell_type": "code",
   "execution_count": null,
   "id": "11264b5c",
   "metadata": {},
   "outputs": [],
   "source": [
    "data['Street Name'].value_counts().head(5)"
   ]
  },
  {
   "cell_type": "code",
   "execution_count": null,
   "id": "bf0fdaaa",
   "metadata": {},
   "outputs": [],
   "source": [
    "data['Cross Street 1'].value_counts().head(4)"
   ]
  },
  {
   "cell_type": "code",
   "execution_count": null,
   "id": "4821150e",
   "metadata": {},
   "outputs": [],
   "source": [
    "data['Cross Street 2'].value_counts().head(4)"
   ]
  },
  {
   "cell_type": "code",
   "execution_count": null,
   "id": "b96de848",
   "metadata": {},
   "outputs": [],
   "source": [
    "data['Intersection Street 1'].value_counts().head(4)"
   ]
  },
  {
   "cell_type": "code",
   "execution_count": null,
   "id": "07bff2e1",
   "metadata": {},
   "outputs": [],
   "source": [
    "data['Intersection Street 2'].value_counts().head(4)"
   ]
  },
  {
   "cell_type": "code",
   "execution_count": null,
   "id": "01ba7b28",
   "metadata": {},
   "outputs": [],
   "source": [
    "data['Address Type'].value_counts().head(4)"
   ]
  },
  {
   "cell_type": "code",
   "execution_count": null,
   "id": "aaec44c0",
   "metadata": {},
   "outputs": [],
   "source": [
    "data['City'].value_counts().head(4)"
   ]
  },
  {
   "cell_type": "code",
   "execution_count": null,
   "id": "054d5a56",
   "metadata": {},
   "outputs": [],
   "source": [
    "data.Landmark.value_counts().head(5)"
   ]
  },
  {
   "cell_type": "code",
   "execution_count": null,
   "id": "c715c74c",
   "metadata": {},
   "outputs": [],
   "source": [
    "data['Facility Type'].value_counts()"
   ]
  },
  {
   "cell_type": "code",
   "execution_count": null,
   "id": "66561360",
   "metadata": {},
   "outputs": [],
   "source": [
    "data.Status.value_counts()"
   ]
  },
  {
   "cell_type": "code",
   "execution_count": null,
   "id": "2e8ae021",
   "metadata": {},
   "outputs": [],
   "source": [
    "data['Due Date'].value_counts().head(4)"
   ]
  },
  {
   "cell_type": "code",
   "execution_count": null,
   "id": "daa79d89",
   "metadata": {},
   "outputs": [],
   "source": [
    "data['Resolution Description'].value_counts().head(4)"
   ]
  },
  {
   "cell_type": "code",
   "execution_count": null,
   "id": "0c529c50",
   "metadata": {},
   "outputs": [],
   "source": [
    "data['School Name'].value_counts()"
   ]
  },
  {
   "cell_type": "code",
   "execution_count": null,
   "id": "f0c947a9",
   "metadata": {},
   "outputs": [],
   "source": [
    "data['School Number'].value_counts()"
   ]
  },
  {
   "cell_type": "code",
   "execution_count": null,
   "id": "4ca38816",
   "metadata": {},
   "outputs": [],
   "source": [
    "data['School Region'].value_counts()"
   ]
  },
  {
   "cell_type": "code",
   "execution_count": null,
   "id": "ed662f48",
   "metadata": {},
   "outputs": [],
   "source": [
    "data['School Not Found'].value_counts()"
   ]
  },
  {
   "cell_type": "code",
   "execution_count": null,
   "id": "60b85a76",
   "metadata": {},
   "outputs": [],
   "source": [
    "data['School Code'].value_counts()"
   ]
  },
  {
   "cell_type": "code",
   "execution_count": null,
   "id": "fd383185",
   "metadata": {},
   "outputs": [],
   "source": [
    "data['School Phone Number'].value_counts()"
   ]
  },
  {
   "cell_type": "code",
   "execution_count": null,
   "id": "516e09b5",
   "metadata": {},
   "outputs": [],
   "source": [
    "data['School Address'].value_counts()"
   ]
  },
  {
   "cell_type": "code",
   "execution_count": null,
   "id": "c51b4637",
   "metadata": {},
   "outputs": [],
   "source": [
    "data['School City'].value_counts()"
   ]
  },
  {
   "cell_type": "code",
   "execution_count": null,
   "id": "8707b2a6",
   "metadata": {},
   "outputs": [],
   "source": [
    "data['School State'].value_counts()"
   ]
  },
  {
   "cell_type": "code",
   "execution_count": null,
   "id": "6d14f6d2",
   "metadata": {},
   "outputs": [],
   "source": [
    "data['School Zip'].value_counts()"
   ]
  },
  {
   "cell_type": "code",
   "execution_count": null,
   "id": "aaeb3cc1",
   "metadata": {},
   "outputs": [],
   "source": [
    "data['School Not Found'].value_counts()"
   ]
  },
  {
   "cell_type": "code",
   "execution_count": null,
   "id": "50123bd9",
   "metadata": {},
   "outputs": [],
   "source": [
    "data['School or Citywide Complaint'].value_counts()"
   ]
  },
  {
   "cell_type": "code",
   "execution_count": null,
   "id": "dbb4a44b",
   "metadata": {},
   "outputs": [],
   "source": [
    "data.columns"
   ]
  },
  {
   "cell_type": "code",
   "execution_count": null,
   "id": "e8a791bc",
   "metadata": {},
   "outputs": [],
   "source": [
    "data_mod = data_mod.drop(columns=['School Name', 'School Number', 'School Region', 'School Code',\n",
    "                              'School Phone Number', 'School Address', 'School City', 'School State',\n",
    "                                 'School Zip', 'School Not Found', 'School or Citywide Complaint'],axis=1)"
   ]
  },
  {
   "cell_type": "code",
   "execution_count": null,
   "id": "c94ce85a",
   "metadata": {},
   "outputs": [],
   "source": [
    "data_mod.columns"
   ]
  },
  {
   "cell_type": "code",
   "execution_count": null,
   "id": "79c659a0",
   "metadata": {},
   "outputs": [],
   "source": [
    "data['Vehicle Type'].value_counts()"
   ]
  },
  {
   "cell_type": "code",
   "execution_count": null,
   "id": "fd5abe7d",
   "metadata": {},
   "outputs": [],
   "source": [
    "data['Taxi Company Borough'].value_counts()"
   ]
  },
  {
   "cell_type": "code",
   "execution_count": null,
   "id": "88aa2037",
   "metadata": {},
   "outputs": [],
   "source": [
    "data['Taxi Pick Up Location'].value_counts()"
   ]
  },
  {
   "cell_type": "code",
   "execution_count": null,
   "id": "9f3f137b",
   "metadata": {},
   "outputs": [],
   "source": [
    "data_mod = data_mod.drop(columns=['Vehicle Type','Taxi Company Borough','Taxi Pick Up Location'],axis=1)"
   ]
  },
  {
   "cell_type": "code",
   "execution_count": null,
   "id": "ca2ccde2",
   "metadata": {},
   "outputs": [],
   "source": [
    "data_mod.columns"
   ]
  },
  {
   "cell_type": "code",
   "execution_count": null,
   "id": "34cbd560",
   "metadata": {},
   "outputs": [],
   "source": [
    "data['Bridge Highway Name'].value_counts().head(5)"
   ]
  },
  {
   "cell_type": "code",
   "execution_count": null,
   "id": "cd2a46f3",
   "metadata": {},
   "outputs": [],
   "source": [
    "data['Bridge Highway Direction'].value_counts().head(4)"
   ]
  },
  {
   "cell_type": "code",
   "execution_count": null,
   "id": "54a22b2a",
   "metadata": {},
   "outputs": [],
   "source": [
    "data['Road Ramp'].value_counts()"
   ]
  },
  {
   "cell_type": "code",
   "execution_count": null,
   "id": "39a8183f",
   "metadata": {},
   "outputs": [],
   "source": [
    "data['Bridge Highway Segment'].value_counts().head(6)"
   ]
  },
  {
   "cell_type": "code",
   "execution_count": null,
   "id": "5fbd6464",
   "metadata": {},
   "outputs": [],
   "source": [
    "data['Garage Lot Name'].value_counts()"
   ]
  },
  {
   "cell_type": "code",
   "execution_count": null,
   "id": "f67c0e7c",
   "metadata": {},
   "outputs": [],
   "source": [
    "data['Ferry Direction'].value_counts()"
   ]
  },
  {
   "cell_type": "code",
   "execution_count": null,
   "id": "2d88ef93",
   "metadata": {},
   "outputs": [],
   "source": [
    "data['Ferry Terminal Name'].value_counts()"
   ]
  },
  {
   "cell_type": "code",
   "execution_count": null,
   "id": "deccb0c6",
   "metadata": {},
   "outputs": [],
   "source": [
    "data_mod = data_mod.drop(columns=['Garage Lot Name','Ferry Direction','Ferry Terminal Name'],axis=1)"
   ]
  },
  {
   "cell_type": "code",
   "execution_count": null,
   "id": "3a112139",
   "metadata": {},
   "outputs": [],
   "source": [
    "data_mod.columns"
   ]
  },
  {
   "cell_type": "code",
   "execution_count": null,
   "id": "be73bd77",
   "metadata": {},
   "outputs": [],
   "source": [
    "data['Latitude'].value_counts().head(5)"
   ]
  },
  {
   "cell_type": "code",
   "execution_count": null,
   "id": "82c10ed4",
   "metadata": {},
   "outputs": [],
   "source": [
    "data['Longitude'].value_counts().head(5)"
   ]
  },
  {
   "cell_type": "code",
   "execution_count": null,
   "id": "a9dd5097",
   "metadata": {},
   "outputs": [],
   "source": [
    "data['Location'].value_counts().head(4)"
   ]
  },
  {
   "cell_type": "code",
   "execution_count": null,
   "id": "ebfbfefb",
   "metadata": {},
   "outputs": [],
   "source": [
    "data_mod.sample(10)"
   ]
  },
  {
   "cell_type": "code",
   "execution_count": null,
   "id": "73b2bad6",
   "metadata": {},
   "outputs": [],
   "source": [
    "data_mod.columns"
   ]
  },
  {
   "cell_type": "code",
   "execution_count": null,
   "id": "0465b07e",
   "metadata": {},
   "outputs": [],
   "source": [
    "# Final info.(features) after cleaning\n",
    "data_mod.info()"
   ]
  },
  {
   "cell_type": "markdown",
   "id": "80c285de",
   "metadata": {},
   "source": [
    "### 2. Read or convert the columns ‘Created Date’ and Closed Date’ to datetime datatype and create a new column ‘Request_Closing_Time’ as the time elapsed between request creation and request closing"
   ]
  },
  {
   "cell_type": "markdown",
   "id": "96ce7b0d",
   "metadata": {},
   "source": [
    "Now, converting the columns ‘Created Date’ and Closed Date’ to datetime datatype and create a new column ‘Request_Closing_Time’ as the time elapsed between request creation and request closing."
   ]
  },
  {
   "cell_type": "code",
   "execution_count": null,
   "id": "e071894c",
   "metadata": {},
   "outputs": [],
   "source": [
    "data_mod['Closed Date'] = pd.to_datetime(data_mod['Closed Date'])\n",
    "data_mod['Created Date'] = pd.to_datetime(data_mod['Created Date'])\n",
    "\n",
    "data_mod['Request_Closing_Time'] = data_mod['Closed Date'] - data_mod['Created Date']\n",
    "\n",
    "#data_mod = data_mod[(data_mod.Request_Closing_Time)>=0]"
   ]
  },
  {
   "cell_type": "code",
   "execution_count": null,
   "id": "b2e34be3",
   "metadata": {},
   "outputs": [],
   "source": [
    "data_mod.info()"
   ]
  },
  {
   "cell_type": "code",
   "execution_count": null,
   "id": "55e45b3b",
   "metadata": {},
   "outputs": [],
   "source": [
    "data_mod.sample(4)"
   ]
  },
  {
   "cell_type": "code",
   "execution_count": null,
   "id": "a3018341",
   "metadata": {},
   "outputs": [],
   "source": [
    "data_mod.columns"
   ]
  },
  {
   "cell_type": "markdown",
   "id": "4e822ead",
   "metadata": {},
   "source": [
    "### 3. Provide major insights/patterns that you can offer in a visual format (graphs or tables); at least 4 major conclusions that you can come up with after generic data mining"
   ]
  },
  {
   "cell_type": "markdown",
   "id": "973cf954",
   "metadata": {},
   "source": [
    "Now, lets visualize some basic results that we can conclude from the data. For instance, which type of complaint is more dominant?\n",
    "First, we will attempt the visualization of a single feature (complain type). Then, we will do the same for other features. "
   ]
  },
  {
   "cell_type": "code",
   "execution_count": null,
   "id": "c852dba3",
   "metadata": {},
   "outputs": [],
   "source": [
    "# Measuring the frequency (occurence) of the different complaint\n",
    "\n",
    "data_complaint = data['Complaint Type'].value_counts()\n",
    "data_complaint = data_complaint.to_frame()\n",
    "data_complaint = data_complaint.rename(columns={'Complaint Type':'Counts'})\n",
    "data_complaint"
   ]
  },
  {
   "cell_type": "code",
   "execution_count": null,
   "id": "4f4453bf",
   "metadata": {},
   "outputs": [],
   "source": [
    "# Evaluate the above in percentage\n",
    "data_complaint['Percentage'] = np.around((data_complaint.Counts/data_complaint.Counts.sum())*100,decimals=2)\n",
    "data_complaint"
   ]
  },
  {
   "cell_type": "code",
   "execution_count": null,
   "id": "c8985edb",
   "metadata": {},
   "outputs": [],
   "source": [
    "# Keeping the major complaint types\n",
    "\n",
    "data_complaint = data_complaint[data_complaint.Percentage>1.0]\n",
    "data_complaint = data_complaint.reset_index()\n",
    "data_complaint = data_complaint.rename(columns={'index':'Complaint Type'})\n",
    "data_complaint"
   ]
  },
  {
   "cell_type": "code",
   "execution_count": null,
   "id": "e541225d",
   "metadata": {},
   "outputs": [],
   "source": [
    "# Visualization of the above evaluated dataset\n",
    "plt.figure(figsize=(12,6))\n",
    "com_type = sns.barplot(x=data_complaint['Complaint Type'],y=data_complaint.Percentage,data=data_complaint)\n",
    "com_type.set_xticklabels(com_type.get_xticklabels(), rotation=30, ha=\"right\")\n",
    "plt.title('Proportion of different complaint type (major)')\n",
    "plt.show()\n",
    "plt.tight_layout()"
   ]
  },
  {
   "cell_type": "markdown",
   "id": "2700fb27",
   "metadata": {},
   "source": [
    "From the above data (Counts and Percentage), it is clear that main complain comes from 'Blocked Driveway', 'Illegal Parking' and noise from Street/Sidewalk or Commercial. \n",
    "\n",
    "However, it is alluring to represent such results via visualization. And it is easy to realise the facts also. \n",
    "\n",
    "Now, we will do the same for several features."
   ]
  },
  {
   "cell_type": "code",
   "execution_count": null,
   "id": "d5ba1ccf",
   "metadata": {},
   "outputs": [],
   "source": [
    "# Applying the above procedure for Descriptor\n",
    "\n",
    "data_descriptor = np.around(((data_mod['Descriptor'].value_counts()*100) / data_mod['Descriptor'].value_counts().sum()),\n",
    "                            decimals=2)\n",
    "data_descriptor = data_descriptor.to_frame()\n",
    "data_descriptor = data_descriptor.rename(columns={'Descriptor':'Percentage'})\n",
    "data_descriptor['Descriptor'] = data_descriptor.index\n",
    "cols = data_descriptor.columns.tolist()\n",
    "cols = cols[-1:]+cols[:-1]\n",
    "data_descriptor = data_descriptor[cols]\n",
    "data_descriptor = data_descriptor[(data_descriptor.Percentage) >= 2.0]\n",
    "data_descriptor = data_descriptor.reset_index()\n",
    "data_descriptor = data_descriptor.drop(columns=['index'],axis=1)\n",
    "data_descriptor"
   ]
  },
  {
   "cell_type": "code",
   "execution_count": null,
   "id": "dd331935",
   "metadata": {},
   "outputs": [],
   "source": [
    "# Applying the above procedure for Location Type\n",
    "\n",
    "data_location_type = np.around(((data_mod['Location Type'].value_counts()*100) / data_mod['Location Type'].value_counts().sum()),\n",
    "                            decimals=2)\n",
    "data_location_type = data_location_type.to_frame()\n",
    "data_location_type = data_location_type.rename(columns={'Location Type':'Percentage'})\n",
    "data_location_type['Location Type'] = data_location_type.index\n",
    "cols = data_location_type.columns.tolist()\n",
    "cols = cols[-1:]+cols[:-1]\n",
    "data_location_type = data_location_type[cols]\n",
    "data_location_type = data_location_type[(data_location_type.Percentage) >= 0.1]\n",
    "data_location_type = data_location_type.reset_index()\n",
    "data_location_type = data_location_type.drop(columns=['index'],axis=1)\n",
    "data_location_type"
   ]
  },
  {
   "cell_type": "code",
   "execution_count": null,
   "id": "fdeefc9b",
   "metadata": {},
   "outputs": [],
   "source": [
    "# Applying the above procedure for City\n",
    "\n",
    "data_city = np.around(((data_mod['City'].value_counts()*100) / data_mod['City'].value_counts().sum()),\n",
    "                            decimals=2)\n",
    "data_city = data_city.to_frame()\n",
    "data_city = data_city.rename(columns={'City':'Percentage'})\n",
    "data_city['City'] = data_city.index\n",
    "cols = data_city.columns.tolist()\n",
    "cols = cols[-1:]+cols[:-1]\n",
    "data_city = data_city[cols]\n",
    "data_city = data_city[(data_city.Percentage) >= 1.0]\n",
    "data_city = data_city.reset_index()\n",
    "data_city = data_city.drop(columns=['index'],axis=1)\n",
    "data_city"
   ]
  },
  {
   "cell_type": "code",
   "execution_count": null,
   "id": "3fd23072",
   "metadata": {},
   "outputs": [],
   "source": [
    "# Applying the above procedure for Address Type\n",
    "\n",
    "data_address_type = np.around(((data_mod['Address Type'].value_counts()*100) / data_mod['Address Type'].value_counts().sum()),\n",
    "                            decimals=2)\n",
    "data_address_type = data_address_type.to_frame()\n",
    "data_address_type = data_address_type.rename(columns={'Address Type':'Percentage'})\n",
    "data_address_type['Address Type'] = data_address_type.index\n",
    "cols = data_address_type.columns.tolist()\n",
    "cols = cols[-1:]+cols[:-1]\n",
    "data_address_type = data_address_type[cols]\n",
    "#data_address_type = data_address_type[(data_address_type.Percentage) >= 1.0]\n",
    "data_address_type = data_address_type.reset_index()\n",
    "data_address_type = data_address_type.drop(columns=['index'],axis=1)\n",
    "data_address_type"
   ]
  },
  {
   "cell_type": "code",
   "execution_count": null,
   "id": "ca194d88",
   "metadata": {},
   "outputs": [],
   "source": [
    "fig, ax = plt.subplots(2, 2, figsize=(12, 10))\n",
    "\n",
    "#sns.set_theme(style=\"whitegrid\")\n",
    "#plt.suptitle(\"Proportion of different outcomes for few interesting features.\")\n",
    "\n",
    "descriptor = sns.barplot(ax=ax[0,0],x=data_descriptor.Descriptor,y=data_descriptor.Percentage,)\n",
    "descriptor.set_xticklabels(descriptor.get_xticklabels(), rotation=30, ha=\"right\")\n",
    "\n",
    "location_type = sns.barplot(ax=ax[0,1],x=data_location_type['Location Type'],y=data_location_type.Percentage,)\n",
    "location_type.set_xticklabels(location_type.get_xticklabels(), rotation=30, ha=\"right\")\n",
    "\n",
    "city = sns.barplot(ax=ax[1,0],x=data_city['City'],y=data_city.Percentage,)\n",
    "city.set_xticklabels(city.get_xticklabels(), rotation=30, ha=\"right\")\n",
    "\n",
    "address = sns.barplot(ax=ax[1,1],x=data_address_type['Address Type'],y=data_address_type.Percentage,)\n",
    "address.set_xticklabels(address.get_xticklabels(), rotation=30, ha=\"right\")\n",
    "\n",
    "\n",
    "#plt.subplots_adjust(left=None, bottom=None, right=None, top=0.0, wspace=None, hspace=None)\n",
    "plt.tight_layout()"
   ]
  },
  {
   "cell_type": "markdown",
   "id": "5770921c",
   "metadata": {},
   "source": [
    "So it is obvious that the Loud Music/party causes the biggest problem for the citizens. And it seems most complaints occur at Street/Sidewalk. And 'Brooklyn' faces the largest problems among all other cities. However, we have mostly solid information.  The place where the problem occurs is pinpointed (Proper Address).\n",
    "\n",
    "These observations are very preliminary. One can expect or guess the outcomes from these visualizations, regarding the corresponding features. However, it needs to be realized that we can not infer/predict from here without any proper statistical explanation."
   ]
  },
  {
   "cell_type": "markdown",
   "id": "676e996d",
   "metadata": {},
   "source": [
    "Now, let's convert the time data ('timedelta64') into integer and store them (converting into hours) in a new column. Besides that let us cut the ambiguous data."
   ]
  },
  {
   "cell_type": "code",
   "execution_count": null,
   "id": "7bbe5c8b",
   "metadata": {},
   "outputs": [],
   "source": [
    "data_place_CType_RCTime = data_mod[['City','Complaint Type','Request_Closing_Time']]\n",
    "data_place_CType_RCTime.dropna(subset = ['City','Complaint Type','Request_Closing_Time'], inplace = True)\n",
    "data_place_CType_RCTime['DeltaT(in_hr.)'] = np.around( (data_place_CType_RCTime['Request_Closing_Time'].astype(np.int64)/\n",
    "                                                      (pow(10,9)*3600) ), decimals=2)\n",
    "neg_time = data_place_CType_RCTime[data_place_CType_RCTime['DeltaT(in_hr.)'] < 0].sum()\n",
    "print('The no negative time difference (Created Time > Clossing Time, which is not possible) = \\n',neg_time)\n",
    "#data_place_CType_RCTime['DeltaT(in sec)/Avg.'] = np.around((data_place_CType_RCTime['DeltaT(in sec)']/Avarage_time),decimals=1)\n",
    "data_place_CType_RCTime.head(6)"
   ]
  },
  {
   "cell_type": "code",
   "execution_count": null,
   "id": "503ece75",
   "metadata": {},
   "outputs": [],
   "source": [
    "Avarage_time = np.around((data_place_CType_RCTime['DeltaT(in_hr.)'].mean()),decimals=2)\n",
    "print('Avarage time gap between logging the complaint and problem solved = ',Avarage_time, 'hour')\n",
    "Central_val = np.around((data_place_CType_RCTime['DeltaT(in_hr.)'].median()),decimals=2)\n",
    "print('Central value of the distribution = ',Central_val, 'hour')\n",
    "Most_occoor = np.around((data_place_CType_RCTime['DeltaT(in_hr.)'].mode()),decimals=2)\n",
    "print('Most occered value = ',Most_occoor, 'hour')\n",
    "stand_dev = np.around((data_place_CType_RCTime['DeltaT(in_hr.)'].std()),decimals=2)\n",
    "print('Deviation is = ',stand_dev)"
   ]
  },
  {
   "cell_type": "markdown",
   "id": "73a36be6",
   "metadata": {},
   "source": [
    "So, one can take the central value as the normal time taken to solve the problem/issue. However, as it is clear from the deviation that it spreads around 6 hr.(more than the central value) from the distribution, so it is more practical to choose average time as the normal time to solve the problem. And categorize time interval as per the codes written below. "
   ]
  },
  {
   "cell_type": "code",
   "execution_count": null,
   "id": "5b19fda1",
   "metadata": {},
   "outputs": [],
   "source": [
    "conditions = [data_place_CType_RCTime['DeltaT(in_hr.)'] <= 0.5, \n",
    "             (0.50 < data_place_CType_RCTime['DeltaT(in_hr.)']) & (data_place_CType_RCTime['DeltaT(in_hr.)'] <= 1.00),\n",
    "             (1.00 < data_place_CType_RCTime['DeltaT(in_hr.)']) & (data_place_CType_RCTime['DeltaT(in_hr.)'] <= 2.00),\n",
    "             (2.00 < data_place_CType_RCTime['DeltaT(in_hr.)']) & (data_place_CType_RCTime['DeltaT(in_hr.)'] <= 6.00),\n",
    "             (6.00 < data_place_CType_RCTime['DeltaT(in_hr.)']) & (data_place_CType_RCTime['DeltaT(in_hr.)'] <= 10.00),\n",
    "             (10.00 < data_place_CType_RCTime['DeltaT(in_hr.)'])]\n",
    "\n",
    "choices = ['Super fast','Very fast','Fast','Normal','Slow','Super Slow']\n",
    "\n",
    "data_place_CType_RCTime['Solution Status'] = np.select(conditions,choices)"
   ]
  },
  {
   "cell_type": "code",
   "execution_count": null,
   "id": "2cf45b37",
   "metadata": {},
   "outputs": [],
   "source": [
    "data_place_CType_RCTime.head(6)"
   ]
  },
  {
   "cell_type": "code",
   "execution_count": null,
   "id": "c88365ad",
   "metadata": {},
   "outputs": [],
   "source": [
    "data_place_CType_RCTime['Solution Status'].value_counts()"
   ]
  },
  {
   "cell_type": "code",
   "execution_count": null,
   "id": "3ceff865",
   "metadata": {},
   "outputs": [],
   "source": [
    "data_place_CType_RCTime['Solution Status'].value_counts().plot(kind='bar')\n",
    "plt.xlabel('Time Status')\n",
    "plt.ylabel('Counts')\n",
    "plt.title('Proportion of the fastness of different Solution status')\n",
    "plt.show()\n",
    "plt.tight_layout()"
   ]
  },
  {
   "cell_type": "markdown",
   "id": "651a83f1",
   "metadata": {},
   "source": [
    "Based on the above-discussed approximation, the proportion of the time interval (expressed in different groups/status) to solve the problem, is depicted here. And it is obvious that the 'Normal' status will dominant since the range is chosen around the average value.\n",
    "\n",
    "Now, let's see, is there any pattern for lodging a complaint?\n",
    "\n",
    "Does it depend on a particular day or is there any month where too much or fewer problems are recorded?"
   ]
  },
  {
   "cell_type": "code",
   "execution_count": null,
   "id": "e124971e",
   "metadata": {},
   "outputs": [],
   "source": [
    "data_mod['Created Date'].head(5)"
   ]
  },
  {
   "cell_type": "code",
   "execution_count": null,
   "id": "d8e7fe3c",
   "metadata": {},
   "outputs": [],
   "source": [
    "# Creating a data frame Contain Days and Months of Complaint date\n",
    "\n",
    "Year_Month_Day = pd.to_datetime(data_mod['Created Date'].dt.date)\n",
    "Month_Day = pd.DataFrame()\n",
    "Month_Day['Date'] = pd.to_datetime(Year_Month_Day.dt.date)\n",
    "Month_Day['Month'] = Year_Month_Day.dt.month\n",
    "Month_Day['Day'] = Year_Month_Day.dt.day\n",
    "Month_Day['Month Name'] = Month_Day['Month'].apply(lambda x: calendar.month_abbr[x])\n",
    "Month_Day['Day No'] = Month_Day['Date'].dt.weekday\n",
    "Month_Day['Day Name'] = Month_Day['Day No'].map({0:'Monday',1:'Tuesday',2:'Wednesday',3:'Thursday',4:'Friday',\n",
    "                                                 5:'Saturday',6:'Sunday'})\n",
    "Month_Day.sample(20)"
   ]
  },
  {
   "cell_type": "code",
   "execution_count": null,
   "id": "80a3ae2a",
   "metadata": {},
   "outputs": [],
   "source": [
    "Month_plot = Month_Day['Month Name'].value_counts()\n",
    "Month_plot = Month_plot.to_frame()\n",
    "Month_plot = Month_plot.rename(columns={'Month Name':'Counts'})\n",
    "Month_plot"
   ]
  },
  {
   "cell_type": "code",
   "execution_count": null,
   "id": "f21acb4f",
   "metadata": {},
   "outputs": [],
   "source": [
    "Day_plot = Month_Day['Day Name'].value_counts()\n",
    "Day_plot = Day_plot.to_frame()\n",
    "Day_plot = Day_plot.rename(columns={'Day Name':'Counts'})\n",
    "Day_plot"
   ]
  },
  {
   "cell_type": "code",
   "execution_count": null,
   "id": "ef0aa711",
   "metadata": {},
   "outputs": [],
   "source": [
    "fig, axes = plt.subplots(1,2, figsize=(14,8))\n",
    "\n",
    "axes[0].pie(Month_plot['Counts'], labels = Month_plot.index,autopct='%1.1f%%')\n",
    "axes[0].set_title('Complain logged in different months of the year')\n",
    "\n",
    "axes[1].pie(Day_plot['Counts'], labels = Day_plot.index,autopct='%1.1f%%')\n",
    "axes[1].set_title('Complain logged in different days of the year')\n",
    "\n",
    "plt.tight_layout()"
   ]
  },
  {
   "cell_type": "markdown",
   "id": "78606d9b",
   "metadata": {},
   "source": [
    "So there is nothing abrupt for the months of lodging complaint. However, a very small amount of complaints recorded in the month of March.\n",
    "\n",
    "The same observation can be made for the days. But if we look carefully, there is a small increment on the weekends compared to the weekly days. \n",
    "\n",
    "However, looking at the days of a year might hide some extra information. It is better to check the days of each month of the year."
   ]
  },
  {
   "cell_type": "code",
   "execution_count": null,
   "id": "3bda1f00",
   "metadata": {},
   "outputs": [],
   "source": [
    "Month_Day_grouped = Month_Day.groupby(['Month Name','Day Name'],as_index=False)['Day No'].count()\n",
    "Month_Day_grouped_final = Month_Day_grouped.rename(columns={'Day No':'Counts'})\n",
    "Month_Day_grouped_final.head(15)"
   ]
  },
  {
   "cell_type": "code",
   "execution_count": null,
   "id": "3b2e5ab5",
   "metadata": {},
   "outputs": [],
   "source": [
    "Month_Day[( (Month_Day['Month Name'] == 'Apr') & (Month_Day['Day Name'] == 'Monday') )].count()"
   ]
  },
  {
   "cell_type": "markdown",
   "id": "ea9eee19",
   "metadata": {},
   "source": [
    "This is just to check whether the grouping operation is done correctly or not.\n",
    "\n",
    "\n",
    "As you can see below, complaints created in each month for all seven days of the week are plotted. As we already counter that in March there is an abrupt decrement of complaint lodging compared to the other months. And Only three days of a week contributed here. It may contain seven days of the week, but with a very lesser amount. So let's check that to as well from the numbers."
   ]
  },
  {
   "cell_type": "code",
   "execution_count": null,
   "id": "146c9820",
   "metadata": {},
   "outputs": [],
   "source": [
    "plt.figure(figsize=(20,8))\n",
    "\n",
    "month_day_plot = sns.barplot(x=Month_Day_grouped_final['Month Name'], y=Month_Day_grouped_final['Counts'], \n",
    "                             hue=Month_Day_grouped_final['Day Name'], data=Month_Day_grouped_final)\n",
    "month_day_plot.set_xticklabels(month_day_plot.get_xticklabels(), rotation=30, ha=\"right\")\n",
    "plt.title('Distribution of daily complain in different months of the year')\n",
    "plt.show()\n",
    "plt.tight_layout()"
   ]
  },
  {
   "cell_type": "code",
   "execution_count": null,
   "id": "f6020706",
   "metadata": {},
   "outputs": [],
   "source": [
    "Month_Day_grouped[Month_Day_grouped['Month Name'] == 'Mar']"
   ]
  },
  {
   "cell_type": "markdown",
   "id": "d2420e73",
   "metadata": {},
   "source": [
    "-  So complaints are recorded only in these three days of March.\n",
    "-  And let's have a look quickly at the status of the complaints."
   ]
  },
  {
   "cell_type": "code",
   "execution_count": null,
   "id": "c12f154e",
   "metadata": {},
   "outputs": [],
   "source": [
    "data_mod['Status'].value_counts().plot(kind='barh')\n",
    "plt.xlabel('Status')\n",
    "plt.ylabel('Counts')\n",
    "plt.title('Proportion of different Solution status')\n",
    "plt.show()\n",
    "plt.tight_layout()"
   ]
  },
  {
   "cell_type": "markdown",
   "id": "61216463",
   "metadata": {},
   "source": [
    "### 5. Perform a statistical test for the following:\n",
    "\n",
    "(For the below statements you need to state the Null and Alternate and then provide a statistical test to accept or reject the Null Hypothesis along with the corresponding ‘p-value’.)\n",
    "\n",
    " - Whether the average response time across complaint types is similar or not (overall)\n",
    " - Are the type of complaint or service requested and location related?"
   ]
  },
  {
   "cell_type": "code",
   "execution_count": null,
   "id": "aae74d3c",
   "metadata": {},
   "outputs": [],
   "source": [
    "import scipy.stats as stat"
   ]
  },
  {
   "cell_type": "markdown",
   "id": "4dc54254",
   "metadata": {},
   "source": [
    " - Whether the average response time across complaint types is similar or not (overall)"
   ]
  },
  {
   "cell_type": "code",
   "execution_count": null,
   "id": "ea766765",
   "metadata": {},
   "outputs": [],
   "source": [
    "# Average response time across complaint types \n",
    "\n",
    "Complaint_AvgTime = data_place_CType_RCTime.groupby(['Complaint Type']).agg({'DeltaT(in_hr.)':'mean'})\n",
    "Complaint_AvgTime = pd.DataFrame(Complaint_AvgTime)\n",
    "Complaint_AvgTime = Complaint_AvgTime.sort_values(['DeltaT(in_hr.)']).reset_index()\n",
    "Complaint_AvgTime"
   ]
  },
  {
   "cell_type": "markdown",
   "id": "a5a410ee",
   "metadata": {},
   "source": [
    "#### 1. T-test\n",
    "#### (a) 1-sample T-test"
   ]
  },
  {
   "cell_type": "markdown",
   "id": "99b94609",
   "metadata": {},
   "source": [
    "It is noteworthy that the value of the Avg. time due to complaint type 'Animal in a Park' quite out of the range. Let's find out the average with or without this particular complaint type."
   ]
  },
  {
   "cell_type": "code",
   "execution_count": null,
   "id": "f4ede133",
   "metadata": {},
   "outputs": [],
   "source": [
    "Tmean_without = float(Complaint_AvgTime[Complaint_AvgTime['Complaint Type']!='Animal in a Park'].mean())\n",
    "print(\"Without complaint type 'Animal in a Park' ----- \",Tmean_without)\n",
    "Tmean_with = float(Complaint_AvgTime['DeltaT(in_hr.)'].mean())\n",
    "print(\"With complaint type 'Animal in a Park' ----- \",Tmean_with)"
   ]
  },
  {
   "cell_type": "code",
   "execution_count": null,
   "id": "a2e8a7df",
   "metadata": {},
   "outputs": [],
   "source": [
    "ttest_with, pval_with = stat.ttest_1samp(Complaint_AvgTime['DeltaT(in_hr.)'], Tmean_with)\n",
    "print('T-statistic is =',ttest_with)\n",
    "print('p value is =',np.around(pval_with))"
   ]
  },
  {
   "cell_type": "code",
   "execution_count": null,
   "id": "41fb8630",
   "metadata": {},
   "outputs": [],
   "source": [
    "if (pval_with<0.05):\n",
    "    print('Null hypothesis is rejected since p value ({}) is less than 0.05'.format(np.around(pval_with,decimals=2)))\n",
    "else:\n",
    "    print('Null hypothesis is accepted since p value ({}) is greater than 0.05'.format(np.around(pval_with,decimals=2)))"
   ]
  },
  {
   "cell_type": "markdown",
   "id": "02496449",
   "metadata": {},
   "source": [
    "#### Without complaint type 'Animal in a Park'"
   ]
  },
  {
   "cell_type": "code",
   "execution_count": null,
   "id": "9d55081f",
   "metadata": {},
   "outputs": [],
   "source": [
    "Complaint_AvgTime_without = Complaint_AvgTime.drop([len(Complaint_AvgTime)-1],axis=0)\n",
    "Complaint_AvgTime_without"
   ]
  },
  {
   "cell_type": "code",
   "execution_count": null,
   "id": "68177d91",
   "metadata": {},
   "outputs": [],
   "source": [
    "ttest_without, pval_without = stat.ttest_1samp(Complaint_AvgTime_without['DeltaT(in_hr.)'], Tmean_without)\n",
    "print('T-statistic is =',ttest_without)\n",
    "print('p value is =',np.around(pval_without,decimals=8))"
   ]
  },
  {
   "cell_type": "code",
   "execution_count": null,
   "id": "543e6df0",
   "metadata": {},
   "outputs": [],
   "source": [
    "if (pval_without<0.05):\n",
    "    print('Null hypothesis is rejected since p value ({}) is less than 0.05'.format(np.around(pval_without,decimals=2)))\n",
    "else:\n",
    "    print('Null hypothesis is accepted since p value ({}) is greater than 0.05'.format(np.around(pval_without,decimals=2)))"
   ]
  },
  {
   "cell_type": "markdown",
   "id": "c377a657",
   "metadata": {},
   "source": [
    "-  With or without the Hypothesis remain the same."
   ]
  },
  {
   "cell_type": "markdown",
   "id": "6e881ab7",
   "metadata": {},
   "source": [
    "#### (b) 2-sample T-test"
   ]
  },
  {
   "cell_type": "code",
   "execution_count": null,
   "id": "4a565fa3",
   "metadata": {},
   "outputs": [],
   "source": [
    "sample1 = Complaint_AvgTime.sample(frac=.5)\n",
    "sample1"
   ]
  },
  {
   "cell_type": "code",
   "execution_count": null,
   "id": "1514b63f",
   "metadata": {},
   "outputs": [],
   "source": [
    "sample2 = Complaint_AvgTime.drop(sample1.index)\n",
    "sample2"
   ]
  },
  {
   "cell_type": "code",
   "execution_count": null,
   "id": "28377350",
   "metadata": {},
   "outputs": [],
   "source": [
    "print('Mean of 1st sample =',np.around(float(sample1['DeltaT(in_hr.)'].mean()),decimals=2))\n",
    "print('Standard dev. of 1st sample =',np.around(float(sample1['DeltaT(in_hr.)'].std()),decimals=2))\n",
    "print('Mean of 2nd sample =',np.around(float(sample2['DeltaT(in_hr.)'].mean()),decimals=2))\n",
    "print('Standard dev. of 2nd sample =',np.around(float(sample2['DeltaT(in_hr.)'].std()),decimals=2))"
   ]
  },
  {
   "cell_type": "code",
   "execution_count": null,
   "id": "fbf34616",
   "metadata": {},
   "outputs": [],
   "source": [
    "ttest_2sp, p_val = stat.ttest_ind(sample1['DeltaT(in_hr.)'],sample2['DeltaT(in_hr.)'])\n",
    "print('T-statistic is =',ttest_2sp)\n",
    "print('p value is =',np.around(p_val,decimals=2))"
   ]
  },
  {
   "cell_type": "code",
   "execution_count": null,
   "id": "f483dc12",
   "metadata": {},
   "outputs": [],
   "source": [
    "if (p_val<0.05):\n",
    "    print('Null hypothesis is rejected since p value ({}) is less than 0.05'.format(np.around(p_val,decimals=2)))\n",
    "else:\n",
    "    print('Null hypothesis is accepted since p value ({}) is greater than 0.05'.format(np.around(p_val,decimals=2)))"
   ]
  },
  {
   "cell_type": "markdown",
   "id": "5926b98b",
   "metadata": {},
   "source": [
    "#### 2. One way F-test (ANOVA)"
   ]
  },
  {
   "cell_type": "code",
   "execution_count": null,
   "id": "0922f7e0",
   "metadata": {},
   "outputs": [],
   "source": [
    "sample1_anova = Complaint_AvgTime.sample(frac=1/3)\n",
    "sample1_anova"
   ]
  },
  {
   "cell_type": "code",
   "execution_count": null,
   "id": "ec6a241f",
   "metadata": {},
   "outputs": [],
   "source": [
    "rest_data = Complaint_AvgTime.drop(sample1_anova.index)\n",
    "rest_data"
   ]
  },
  {
   "cell_type": "code",
   "execution_count": null,
   "id": "7335726c",
   "metadata": {},
   "outputs": [],
   "source": [
    "sample2_anova = rest_data.sample(frac=1/2)\n",
    "sample2_anova"
   ]
  },
  {
   "cell_type": "code",
   "execution_count": null,
   "id": "6d18b677",
   "metadata": {},
   "outputs": [],
   "source": [
    "sample3_anova = rest_data.drop(sample2_anova.index)\n",
    "sample3_anova"
   ]
  },
  {
   "cell_type": "code",
   "execution_count": null,
   "id": "2072ea30",
   "metadata": {},
   "outputs": [],
   "source": [
    "print('Mean of 1st sample =',np.around(float(sample1_anova['DeltaT(in_hr.)'].mean()),decimals=2))\n",
    "print('Standard dev. of 1st sample =',np.around(float(sample1_anova['DeltaT(in_hr.)'].std()),decimals=2))\n",
    "print('Mean of 2nd sample =',np.around(float(sample2_anova['DeltaT(in_hr.)'].mean()),decimals=2))\n",
    "print('Standard dev. of 2nd sample =',np.around(float(sample2_anova['DeltaT(in_hr.)'].std()),decimals=2))\n",
    "print('Mean of 3rd sample =',np.around(float(sample3_anova['DeltaT(in_hr.)'].mean()),decimals=2))\n",
    "print('Standard dev. of 3rd sample =',np.around(float(sample3_anova['DeltaT(in_hr.)'].std()),decimals=2))"
   ]
  },
  {
   "cell_type": "markdown",
   "id": "f3e944e0",
   "metadata": {},
   "source": [
    "#### (a) Shapiro-Wilk normality test for each data group"
   ]
  },
  {
   "cell_type": "code",
   "execution_count": null,
   "id": "caf70320",
   "metadata": {},
   "outputs": [],
   "source": [
    "f_val,p_val = stat.shapiro(sample1_anova['DeltaT(in_hr.)'])\n",
    "print('F-statistic is =',f_val)\n",
    "print('p value is =',np.around(p_val,decimals=2))"
   ]
  },
  {
   "cell_type": "code",
   "execution_count": null,
   "id": "14a687a2",
   "metadata": {},
   "outputs": [],
   "source": [
    "f_val,p_val = stat.shapiro(sample2_anova['DeltaT(in_hr.)'])\n",
    "print('F-statistic is =',f_val)\n",
    "print('p value is =',np.around(p_val,decimals=2))"
   ]
  },
  {
   "cell_type": "code",
   "execution_count": null,
   "id": "f13924f5",
   "metadata": {},
   "outputs": [],
   "source": [
    "f_val,p_val = stat.shapiro(sample3_anova['DeltaT(in_hr.)'])\n",
    "print('F-statistic is =',f_val)\n",
    "print('p value is =',np.around(p_val,decimals=2))"
   ]
  },
  {
   "cell_type": "markdown",
   "id": "0d3b7b24",
   "metadata": {},
   "source": [
    " - All p values are greater than 0.05\n",
    " - Fail to reject the null hypothesis\n",
    " - Samples come from populations that follow normal distribution"
   ]
  },
  {
   "cell_type": "markdown",
   "id": "0b56ba28",
   "metadata": {},
   "source": [
    "#### (b) Levene variance test  "
   ]
  },
  {
   "cell_type": "code",
   "execution_count": null,
   "id": "1eb0742e",
   "metadata": {},
   "outputs": [],
   "source": [
    "f_val,p_val = stat.levene(sample1_anova['DeltaT(in_hr.)'],sample2_anova['DeltaT(in_hr.)'],sample3_anova['DeltaT(in_hr.)'])\n",
    "print('F-statistic is =',f_val)\n",
    "print('p value is =',np.around(p_val,decimals=2))"
   ]
  },
  {
   "cell_type": "code",
   "execution_count": null,
   "id": "ab8bd5b5",
   "metadata": {},
   "outputs": [],
   "source": [
    "if (p_val<0.05):\n",
    "    print('Null hypothesis is rejected since p value ({}) is less than 0.05'.format(np.around(p_val,decimals=2)))\n",
    "else:\n",
    "    print('Null hypothesis is accepted since p value ({}) is greater than 0.05'.format(np.around(p_val,decimals=2)))"
   ]
  },
  {
   "cell_type": "markdown",
   "id": "4066355b",
   "metadata": {},
   "source": [
    "#### (d) Again independent 2-sample T-test\n",
    "\n",
    "We already checked the independent T-test for 2 samples. Let's do the same for 3 samples and check the consistency."
   ]
  },
  {
   "cell_type": "code",
   "execution_count": null,
   "id": "0c848560",
   "metadata": {},
   "outputs": [],
   "source": [
    "t_val,p_val = stat.ttest_ind(sample1_anova['DeltaT(in_hr.)'],sample2_anova['DeltaT(in_hr.)'])\n",
    "print('T-statistic for sample 1 and 2 is =',t_val)\n",
    "print('p value is =',np.around(p_val,decimals=2))"
   ]
  },
  {
   "cell_type": "code",
   "execution_count": null,
   "id": "01eb6665",
   "metadata": {},
   "outputs": [],
   "source": [
    "t_val,p_val = stat.ttest_ind(sample1_anova['DeltaT(in_hr.)'],sample3_anova['DeltaT(in_hr.)'])\n",
    "print('T-statistic for sample 1 and 3 is =',t_val)\n",
    "print('p value is =',np.around(p_val,decimals=2))"
   ]
  },
  {
   "cell_type": "code",
   "execution_count": null,
   "id": "1c1e112c",
   "metadata": {},
   "outputs": [],
   "source": [
    "t_val,p_val = stat.ttest_ind(sample2_anova['DeltaT(in_hr.)'],sample3_anova['DeltaT(in_hr.)'])\n",
    "print('T-statistic for sample 2 and 3 is =',t_val)\n",
    "print('p value is =',np.around(p_val,decimals=2))"
   ]
  },
  {
   "cell_type": "markdown",
   "id": "d510e3c0",
   "metadata": {},
   "source": [
    " - All the cases p-value is greater than 0.05\n",
    " - Fail to reject the null hypothesis.\n",
    "\n",
    "All the tests (T-test, F-test) provide a common conclusion. That is we fail to reject the 'Null hypothesis'. \n",
    "\n",
    " - Null Hypothesis states - there is no significant relationship among the average response time across complaint types\n",
    "\n",
    " - Alternate Hypothesis states - there is a significant relationship among the average response time across complaint types\n",
    "\n",
    "Thus we may conclude that there is no significant relationship among the average response time across complaint types or they are not similar types."
   ]
  },
  {
   "cell_type": "markdown",
   "id": "2e164ccb",
   "metadata": {},
   "source": [
    " - Are the type of complaint or service requested and location related?"
   ]
  },
  {
   "cell_type": "code",
   "execution_count": null,
   "id": "7069b839",
   "metadata": {},
   "outputs": [],
   "source": [
    "print('Null data in Complaint Type =',data_mod['Complaint Type'].isnull().sum())\n",
    "print('Null data in City =',data_mod['City'].isnull().sum())"
   ]
  },
  {
   "cell_type": "code",
   "execution_count": null,
   "id": "a5e66041",
   "metadata": {},
   "outputs": [],
   "source": [
    "df_cc = data_mod[['Complaint Type','City']]\n",
    "df_cc = df_cc.dropna()\n",
    "#df_cc.isnull().sum()\n",
    "#df_cc"
   ]
  },
  {
   "cell_type": "code",
   "execution_count": null,
   "id": "cfc94368",
   "metadata": {},
   "outputs": [],
   "source": [
    "City_Complaint = pd.crosstab(data_mod['Complaint Type'],data_mod['City'],margins=True, margins_name='Total')\n",
    "#City_Complaint = pd.crosstab(df_cc['Complaint Type'],df_cc['City'])\n",
    "City_Complaint.head(6)"
   ]
  },
  {
   "cell_type": "markdown",
   "id": "2be8549e",
   "metadata": {},
   "source": [
    "Applying the ANOVA for a few combinations and let's see how does it go?"
   ]
  },
  {
   "cell_type": "code",
   "execution_count": null,
   "id": "e1922ada",
   "metadata": {},
   "outputs": [],
   "source": [
    "print(\"For 'ARVERNE' and 'ASTORIA' pair -------\")\n",
    "f_val,p_val = stat.f_oneway(City_Complaint['ARVERNE'],City_Complaint['ASTORIA'])\n",
    "print('F-statistic is =',f_val)\n",
    "print('p value is =',np.around(p_val,decimals=2))"
   ]
  },
  {
   "cell_type": "code",
   "execution_count": null,
   "id": "d92aac5a",
   "metadata": {},
   "outputs": [],
   "source": [
    "print(\"For 'ARVERNE' and 'BROOKLYN' pair -------\")\n",
    "f_val,p_val = stat.f_oneway(City_Complaint['ARVERNE'],City_Complaint['BROOKLYN'])\n",
    "print('F-statistic is =',f_val)\n",
    "print('p value is =',np.around(p_val,decimals=2))"
   ]
  },
  {
   "cell_type": "code",
   "execution_count": null,
   "id": "4f36b643",
   "metadata": {},
   "outputs": [],
   "source": [
    "print(\"For 'HOLLIS' and 'JAMAICA' pair -------\")\n",
    "f_val,p_val = stat.f_oneway(City_Complaint['HOLLIS'],City_Complaint['JAMAICA'])\n",
    "print('F-statistic is =',f_val)\n",
    "print('p value is =',np.around(p_val,decimals=2))"
   ]
  },
  {
   "cell_type": "code",
   "execution_count": null,
   "id": "e8cbd45c",
   "metadata": {},
   "outputs": [],
   "source": [
    "print(\"For 'MASPETH' and 'QUEENS' pair -------\")\n",
    "f_val,p_val = stat.f_oneway(City_Complaint['MASPETH'],City_Complaint['QUEENS'])\n",
    "print('F-statistic is =',f_val)\n",
    "print('p value is =',np.around(p_val,decimals=2))"
   ]
  },
  {
   "cell_type": "markdown",
   "id": "e4c4ae8f",
   "metadata": {},
   "source": [
    "We have seen a few of the pairs. And it seems p-value is around 0.05. This is a very insufficient number of pair checking. So, though it looks like 'neglecting Null Hypothesis', but we can not certain unless checking all pairs ($^{53}{C}_{2}$ combinations for 53 cities). Even for 21 complaint types, it is still $^{21}{C}_{2}$ combinations.\n",
    "\n",
    "It is more proper to use the chai square contingency test for such data structure. It gives us the correlation between different features (here different cities for a given complaint type).\n",
    "\n",
    " - Null Hypothesis states - there is no dependence or relation among the features\n",
    " - Alternate Hypothesis states - there is a relation among the features"
   ]
  },
  {
   "cell_type": "markdown",
   "id": "497a0fc2",
   "metadata": {},
   "source": [
    "#### Chai square Contigency test "
   ]
  },
  {
   "cell_type": "code",
   "execution_count": null,
   "id": "5239eddf",
   "metadata": {},
   "outputs": [],
   "source": [
    "chai2, p_val, df, exp_frq = stat.chi2_contingency(City_Complaint)"
   ]
  },
  {
   "cell_type": "code",
   "execution_count": null,
   "id": "bf71911a",
   "metadata": {},
   "outputs": [],
   "source": [
    "print('Chai square value =',chai2)\n",
    "print('p-value is =',p_val)"
   ]
  },
  {
   "cell_type": "code",
   "execution_count": null,
   "id": "57d16706",
   "metadata": {},
   "outputs": [],
   "source": [
    "\n",
    "\n",
    "\n",
    "if (p_val<0.05):\n",
    "    print('Null hypothesis is rejected since p value ({}) is less than 0.05'.format(np.around(p_val,decimals=2)))\n",
    "else:\n",
    "    print('Null hypothesis is accepted since p value ({}) is greater than 0.05'.format(np.around(p_val,decimals=2)))"
   ]
  },
  {
   "cell_type": "markdown",
   "id": "eb9b8033",
   "metadata": {},
   "source": [
    "#### conclusion\n",
    "Thus we may conclude that there is a relationship between the type of complaint or service requested and location."
   ]
  },
  {
   "cell_type": "code",
   "execution_count": null,
   "id": "0747b685",
   "metadata": {},
   "outputs": [],
   "source": []
  },
  {
   "cell_type": "code",
   "execution_count": null,
   "id": "93d3b3ec",
   "metadata": {},
   "outputs": [],
   "source": []
  },
  {
   "cell_type": "code",
   "execution_count": null,
   "id": "97df6083",
   "metadata": {},
   "outputs": [],
   "source": []
  }
 ],
 "metadata": {
  "kernelspec": {
   "display_name": "Python 3 (ipykernel)",
   "language": "python",
   "name": "python3"
  },
  "language_info": {
   "codemirror_mode": {
    "name": "ipython",
    "version": 3
   },
   "file_extension": ".py",
   "mimetype": "text/x-python",
   "name": "python",
   "nbconvert_exporter": "python",
   "pygments_lexer": "ipython3",
   "version": "3.9.12"
  }
 },
 "nbformat": 4,
 "nbformat_minor": 5
}
